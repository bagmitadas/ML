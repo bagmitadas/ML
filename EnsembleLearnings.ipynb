{
  "nbformat": 4,
  "nbformat_minor": 0,
  "metadata": {
    "colab": {
      "provenance": [],
      "authorship_tag": "ABX9TyOYl4AOcqG7wInppIlJAARD",
      "include_colab_link": true
    },
    "kernelspec": {
      "name": "python3",
      "display_name": "Python 3"
    },
    "language_info": {
      "name": "python"
    }
  },
  "cells": [
    {
      "cell_type": "markdown",
      "metadata": {
        "id": "view-in-github",
        "colab_type": "text"
      },
      "source": [
        "<a href=\"https://colab.research.google.com/github/bagmitadas/ML/blob/main/EnsembleLearnings.ipynb\" target=\"_parent\"><img src=\"https://colab.research.google.com/assets/colab-badge.svg\" alt=\"Open In Colab\"/></a>"
      ]
    },
    {
      "cell_type": "code",
      "execution_count": null,
      "metadata": {
        "id": "wWkXzHfTVMyO"
      },
      "outputs": [],
      "source": []
    },
    {
      "cell_type": "markdown",
      "source": [
        "*** Theoretical Questions ***\n",
        "\n",
        "Q1. Can we use Bagging for regression problems?\n",
        "\n",
        "Answer. Yes, we can use Bagging for regression problems. Bagging is an ensemble technique that can be applied to both classification and regression tasks. In regression, Bagging involves training multiple base regressors on different subsets of the training data and then averaging their predictions to make the final prediction.\n",
        "\n",
        "Q2. What is the difference between multiple model training and single model training?\n",
        "\n",
        "Answer. Single Model Training: Involves training a single model on the entire dataset. The model's performance is highly dependent on the specific characteristics of the data, and it might be prone to overfitting or underfitting. It can also be sensitive to noise or outliers in the data.\n",
        "Multiple Model Training (Ensemble Methods): Involves training multiple models (an ensemble) on different subsets of the data or with different algorithms. The predictions of these individual models are then combined to make a final prediction. This approach aims to improve generalization, reduce overfitting, and increase robustness by leveraging the diversity of the individual models.\n",
        "\n",
        "Q3. Explain the concept of feature randomness in Random Forest.\n",
        "\n",
        "Answer. Feature randomness, also known as \"random subspace,\" is a key concept in Random Forest. In addition to bootstrap sampling of data points, Random Forest also introduces randomness in the selection of features.  At each node of each decision tree in the forest, instead of considering all features to find the best split, Random Forest randomly selects a subset of features. The algorithm then searches for the best split only within that subset. This forces the trees to be more diverse and reduces the correlation between them, which helps to improve the model's generalization ability and reduces overfitting.\n",
        "\n",
        "Q4. What is OOB (Out-of-Bag) Score?\n",
        "\n",
        "Answer. Out-of-Bag (OOB) score is a method to evaluate the performance of a Bagging or Random Forest model without the need for a separate validation set. In Bagging, each tree is trained on a bootstrap sample of the data, which means that some data points are left out of the training set for each tree. These left-out data points are called \"out-of-bag\" samples.  OOB score is calculated by averaging the predictions of each tree on the OOB samples for that tree. This provides an unbiased estimate of the model's generalization performance.\n",
        "\n",
        "Q5. How can you measure the importance of features in a Random Forest model?\n",
        "\n",
        "Answer. Random Forest provides a way to estimate the importance of each feature in the dataset. Feature importance is calculated by measuring how much the prediction error increases when that feature is permuted (randomly shuffled). If shuffling a feature significantly increases the error, it means that the feature is important for making accurate predictions. Random Forest algorithms typically provide a feature importance score for each feature, which can be used to rank features and select the most relevant ones.\n",
        "\n",
        "Q6. Explain the working principle of a Bagging Classifier.\n",
        "\n",
        "Answer. Bagging (Bootstrap Aggregating) Classifier works by creating multiple subsets of the original training data using bootstrap sampling. Bootstrap sampling involves randomly selecting data points with replacement, meaning some data points may be included multiple times in a subset, while others may be left out.  A base classifier (e.g., Decision Tree, SVM, Logistic Regression) is trained on each of these bootstrap samples. Finally, the predictions of all the classifiers are combined, typically by majority voting for classification  or averaging for regression, to make the final prediction. Bagging reduces variance and helps to prevent overfitting.\n",
        "\n",
        "Q7. How do you evaluate a Bagging Classifier's performance?\n",
        "\n",
        "Answer. The performance of a Bagging Classifier can be evaluated using various metrics, depending on the specific problem:\n",
        "\n",
        "Accuracy: For balanced classification problems, accuracy (the proportion of correctly classified instances) is a common metric.\n",
        "Precision, Recall, F1-score: For imbalanced classification problems, precision (the proportion of correctly predicted positive instances among all instances predicted as positive), recall (the proportion of correctly predicted positive instances among all actual positive instances), and F1-score (the harmonic mean of precision and recall) are more informative.\n",
        "AUC-ROC: The Area Under the Receiver Operating Characteristic (AUC-ROC) curve measures the classifier's ability to distinguish between different classes.\n",
        "Cross-validation: Techniques like k-fold cross-validation can be used to obtain a more robust estimate of the classifier's performance.\n",
        "Out-of-Bag (OOB) Score: As mentioned earlier, Bagging provides an intrinsic way to evaluate performance using OOB samples.\n",
        "\n",
        "Q8. How does a Bagging Regressor work?\n",
        "\n",
        "Answer. A Bagging Regressor works similarly to a Bagging Classifier, but instead of predicting class labels, it predicts continuous values.  Bootstrap samples are created from the training data, and a base regressor (e.g., Decision Tree) is trained on each sample. The final prediction is typically obtained by averaging the predictions of all the base regressors. Bagging Regressor reduces the variance of the predictions and improves the stability of the model.\n",
        "\n",
        "Q9. What is the main advantage of ensemble techniques?\n",
        "\n",
        "Answer. The main advantage of ensemble techniques is their ability to improve the generalization performance of machine learning models. By combining multiple models, ensemble methods can reduce variance, bias, and overfitting, leading to more accurate and robust predictions compared to single models.\n",
        "\n",
        "Q10. What is the main challenge of ensemble methods?\n",
        "\n",
        "Answer. The main challenge of ensemble methods is their complexity and computational cost. Training and storing multiple models can be more time-consuming and resource-intensive than training a single model. Ensemble methods can also be more difficult to interpret than single models.\n",
        "\n",
        "Q11. Explain the key idea behind ensemble techniques.\n",
        "\n",
        "Answer. The key idea behind ensemble techniques is to combine the strengths of multiple individual models to create a stronger, more accurate predictive model. The ensemble leverages the diversity of the individual models.  If the individual models make different types of errors, the ensemble can correct those errors and improve overall performance.\n",
        "\n",
        "Q12. What is a Random Forest Classifier?\n",
        "\n",
        "Answer. A Random Forest Classifier is an ensemble learning method that combines multiple decision trees to perform classification tasks. Each tree is trained on a bootstrap sample of the data, and feature randomness is introduced during the tree building process. The final prediction is made by aggregating the predictions of all the trees, typically using majority voting.  \n",
        "\n",
        "Q13. What are the main types of ensemble techniques?\n",
        "\n",
        "Answer. The main types of ensemble techniques include:\n",
        "\n",
        "Bagging: (Bootstrap Aggregating)   \n",
        "Boosting: (e.g., AdaBoost, Gradient Boosting)\n",
        "Stacking:\n",
        "\n",
        "Q14. What is ensemble learning in machine learning?\n",
        "\n",
        "Answer. Ensemble learning in machine learning is a technique that combines the predictions from multiple individual models to make more accurate predictions than any single model alone.\n",
        "\n",
        "Q15. When should we avoid using ensemble methods?\n",
        "\n",
        "Answer. We might avoid using ensemble methods when:\n",
        "\n",
        "Computational resources are very limited: Ensemble methods can be computationally expensive.\n",
        "Interpretability is crucial: Ensemble models are often more difficult to interpret than single models. If understanding the decision-making process is essential, a single, interpretable model might be preferred.\n",
        "The single model already performs very well: If a single model already achieves satisfactory performance, the added complexity of an ensemble might not be necessary.\n",
        "The dataset is very small: Ensemble methods often require a sufficient amount of data to train multiple models effectively.\n",
        "\n",
        "Q16. How does Bagging help in reducing overfitting?\n",
        "\n",
        "Answer. Bagging helps in reducing overfitting primarily by reducing the variance of the model. By training on multiple bootstrap samples, Bagging creates an ensemble of models that are less likely to memorize noise or specific patterns in the training data. Averaging or voting the predictions of these models smooths out the predictions and reduces the tendency to overfit.\n",
        "\n",
        "Q17. Why is Random Forest better than a single Decision Tree?\n",
        "\n",
        "Answer. Random Forest is generally better than a single Decision Tree because:\n",
        "\n",
        "Reduced Overfitting: Random Forest reduces overfitting by averaging multiple decision trees trained on different subsets of the data and with feature randomness. Single decision trees are prone to overfitting, especially when they are deep.  \n",
        "Improved Accuracy: Random Forest often achieves higher accuracy than single decision trees due to the ensemble effect.\n",
        "Increased Robustness: Random Forest is more robust to noise and outliers in the data.\n",
        "Feature Importance Estimation: Random Forest provides a reliable way to estimate feature importance.\n",
        "\n",
        "Q18. What is the role of bootstrap sampling in Bagging?\n",
        "\n",
        "Answer. The role of bootstrap sampling in Bagging is to create multiple diverse subsets of the training data. This diversity is crucial because it allows the individual models to learn different aspects of the data and make different errors. By aggregating the predictions of these diverse models, Bagging reduces variance and improves the generalization performance of the ensemble.\n",
        "\n",
        "Q19. What are some real-world applications of ensemble techniques?\n",
        "\n",
        "Answer. Ensemble techniques are used in a wide range of real-world applications, including:\n",
        "\n",
        "Image classification\n",
        "Spam detection\n",
        "Medical diagnosis\n",
        "Financial modeling\n",
        "Recommendation systems\n",
        "Natural language processing\n",
        "\n",
        "Q20. What is the difference between Bagging and Boosting?\n",
        "\n",
        "Answer. The key differences between Bagging and Boosting are:\n",
        "\n",
        "Data Sampling: Bagging uses bootstrap sampling to create subsets of the data, while Boosting typically weights the data points, giving more weight to misclassified instances in subsequent models.\n",
        "Model Training: In Bagging, the base models are trained independently and in parallel. In Boosting, the base models are trained sequentially, with each model trying to correct the errors of the previous models.\n",
        "Model Combination: Bagging combines predictions by averaging (regression) or voting (classification). Boosting combines predictions by weighted averaging or voting, where the weights are determined by the performance of each model.\n",
        "Goal: Bagging primarily aims to reduce variance and overfitting. Boosting primarily aims to reduce bias and improve accuracy."
      ],
      "metadata": {
        "id": "gpmspo19VVlx"
      }
    },
    {
      "cell_type": "code",
      "source": [
        "# 21. Train a Bagging Classifier using Decision Trees on a sample dataset and print model accuracy.\n",
        "from sklearn.ensemble import BaggingClassifier\n",
        "from sklearn.tree import DecisionTreeClassifier\n",
        "from sklearn.model_selection import train_test_split\n",
        "from sklearn.datasets import load_breast_cancer  # Using Breast Cancer dataset as a sample\n",
        "from sklearn.metrics import accuracy_score\n",
        "\n",
        "# Load a sample dataset\n",
        "data = load_breast_cancer()\n",
        "X = data.data\n",
        "y = data.target\n",
        "\n",
        "# Split the data into training and testing sets\n",
        "X_train, X_test, y_train, y_test = train_test_split(X, y, test_size=0.3, random_state=42)\n",
        "\n",
        "# Define the base classifier (Decision Tree)\n",
        "base_classifier = DecisionTreeClassifier(random_state=42)\n",
        "\n",
        "# Create the Bagging Classifier\n",
        "bagging_classifier = BaggingClassifier(base_classifier, n_estimators=100, random_state=42) # You can adjust n_estimators\n",
        "\n",
        "# Train the Bagging Classifier\n",
        "bagging_classifier.fit(X_train, y_train)\n",
        "\n",
        "# Make predictions on the test set\n",
        "y_pred = bagging_classifier.predict(X_test)\n",
        "\n",
        "# Calculate the accuracy of the model\n",
        "accuracy = accuracy_score(y_test, y_pred)\n",
        "\n",
        "# Print the model accuracy\n",
        "print(\"Bagging Classifier Accuracy:\", accuracy)"
      ],
      "metadata": {
        "colab": {
          "base_uri": "https://localhost:8080/"
        },
        "id": "3-JAkoJEYyuP",
        "outputId": "cdb74475-a3a6-4813-8b1e-4d5168342967"
      },
      "execution_count": 1,
      "outputs": [
        {
          "output_type": "stream",
          "name": "stdout",
          "text": [
            "Bagging Classifier Accuracy: 0.9590643274853801\n"
          ]
        }
      ]
    },
    {
      "cell_type": "code",
      "source": [
        "# 22. Train a Bagging Regressor using Decision Trees and evaluate using Mean Squared Error (MSE).\n",
        "from sklearn.ensemble import BaggingRegressor\n",
        "from sklearn.tree import DecisionTreeRegressor\n",
        "from sklearn.model_selection import train_test_split\n",
        "from sklearn.datasets import load_diabetes  # Using Diabetes dataset as a sample\n",
        "from sklearn.metrics import mean_squared_error\n",
        "\n",
        "# Load a sample dataset (for regression)\n",
        "data = load_diabetes()\n",
        "X = data.data\n",
        "y = data.target\n",
        "\n",
        "# Split the data into training and testing sets\n",
        "X_train, X_test, y_train, y_test = train_test_split(X, y, test_size=0.3, random_state=42)\n",
        "\n",
        "# Define the base regressor (Decision Tree Regressor)\n",
        "base_regressor = DecisionTreeRegressor(random_state=42)\n",
        "\n",
        "# Create the Bagging Regressor\n",
        "bagging_regressor = BaggingRegressor(base_regressor, n_estimators=100, random_state=42)\n",
        "\n",
        "# Train the Bagging Regressor\n",
        "bagging_regressor.fit(X_train, y_train)\n",
        "\n",
        "# Make predictions on the test set\n",
        "y_pred = bagging_regressor.predict(X_test)\n",
        "\n",
        "# Evaluate the model using Mean Squared Error (MSE)\n",
        "mse = mean_squared_error(y_test, y_pred)\n",
        "\n",
        "# Print the MSE\n",
        "print(\"Bagging Regressor Mean Squared Error (MSE):\", mse)"
      ],
      "metadata": {
        "colab": {
          "base_uri": "https://localhost:8080/"
        },
        "id": "CQQqRDn2ZZFl",
        "outputId": "da55524b-3f79-4a64-afef-9a25b18171b9"
      },
      "execution_count": 2,
      "outputs": [
        {
          "output_type": "stream",
          "name": "stdout",
          "text": [
            "Bagging Regressor Mean Squared Error (MSE): 2908.80615037594\n"
          ]
        }
      ]
    },
    {
      "cell_type": "code",
      "source": [
        "# 23. Train a Random Forest Classifier on the Breast Cancer dataset and print feature importance scores\n",
        "from sklearn.ensemble import RandomForestClassifier\n",
        "from sklearn.datasets import load_breast_cancer\n",
        "from sklearn.model_selection import train_test_split\n",
        "import pandas as pd\n",
        "\n",
        "# Load the Breast Cancer dataset\n",
        "data = load_breast_cancer()\n",
        "X = data.data\n",
        "y = data.target\n",
        "\n",
        "# Split the data into training and testing sets\n",
        "X_train, X_test, y_train, y_test = train_test_split(X, y, test_size=0.3, random_state=42)\n",
        "\n",
        "# Create the Random Forest Classifier\n",
        "rf_classifier = RandomForestClassifier(n_estimators=100, random_state=42)\n",
        "\n",
        "# Train the Classifier\n",
        "rf_classifier.fit(X_train, y_train)\n",
        "\n",
        "# Get feature importance scores\n",
        "feature_importances = rf_classifier.feature_importances_\n",
        "\n",
        "# Create a DataFrame to display feature importances\n",
        "feature_names = data.feature_names\n",
        "feature_importance_df = pd.DataFrame({'Feature': feature_names, 'Importance': feature_importances})\n",
        "\n",
        "# Sort the DataFrame by importance\n",
        "feature_importance_df = feature_importance_df.sort_values(by='Importance', ascending=False)\n",
        "\n",
        "# Print the feature importance scores\n",
        "print(\"Feature Importance Scores:\")\n",
        "print(feature_importance_df)"
      ],
      "metadata": {
        "colab": {
          "base_uri": "https://localhost:8080/"
        },
        "id": "dmp9uUvXZryb",
        "outputId": "1fec22b3-ca4f-4360-e81f-d6bc5e2b8f3e"
      },
      "execution_count": 3,
      "outputs": [
        {
          "output_type": "stream",
          "name": "stdout",
          "text": [
            "Feature Importance Scores:\n",
            "                    Feature  Importance\n",
            "7       mean concave points    0.141934\n",
            "27     worst concave points    0.127136\n",
            "23               worst area    0.118217\n",
            "6            mean concavity    0.080557\n",
            "20             worst radius    0.077975\n",
            "22          worst perimeter    0.074292\n",
            "2            mean perimeter    0.060092\n",
            "3                 mean area    0.053810\n",
            "26          worst concavity    0.041080\n",
            "0               mean radius    0.032312\n",
            "13               area error    0.029538\n",
            "21            worst texture    0.018786\n",
            "25        worst compactness    0.017539\n",
            "10             radius error    0.016435\n",
            "28           worst symmetry    0.012929\n",
            "12          perimeter error    0.011770\n",
            "24         worst smoothness    0.011769\n",
            "1              mean texture    0.011064\n",
            "5          mean compactness    0.009216\n",
            "19  fractal dimension error    0.007135\n",
            "29  worst fractal dimension    0.006924\n",
            "4           mean smoothness    0.006223\n",
            "14         smoothness error    0.005881\n",
            "16          concavity error    0.005816\n",
            "15        compactness error    0.004596\n",
            "18           symmetry error    0.004001\n",
            "17     concave points error    0.003382\n",
            "8             mean symmetry    0.003278\n",
            "11            texture error    0.003172\n",
            "9    mean fractal dimension    0.003140\n"
          ]
        }
      ]
    },
    {
      "cell_type": "code",
      "source": [
        "# 24. Train a Random Forest Regressor and compare its performance with a single Decision Tree.\n",
        "from sklearn.ensemble import RandomForestRegressor\n",
        "from sklearn.tree import DecisionTreeRegressor\n",
        "from sklearn.model_selection import train_test_split\n",
        "from sklearn.datasets import load_diabetes  # Or any other regression dataset\n",
        "from sklearn.metrics import mean_squared_error, r2_score\n",
        "\n",
        "# Load a sample regression dataset\n",
        "data = load_diabetes()\n",
        "X = data.data\n",
        "y = data.target\n",
        "\n",
        "# Split the data into training and testing sets\n",
        "X_train, X_test, y_train, y_test = train_test_split(X, y, test_size=0.3, random_state=42)\n",
        "\n",
        "# Create a Decision Tree Regressor\n",
        "dt_regressor = DecisionTreeRegressor(random_state=42)\n",
        "dt_regressor.fit(X_train, y_train)\n",
        "dt_predictions = dt_regressor.predict(X_test)\n",
        "dt_mse = mean_squared_error(y_test, dt_predictions)\n",
        "dt_r2 = r2_score(y_test, dt_predictions)\n",
        "\n",
        "# Create a Random Forest Regressor\n",
        "rf_regressor = RandomForestRegressor(n_estimators=100, random_state=42)\n",
        "rf_regressor.fit(X_train, y_train)\n",
        "rf_predictions = rf_regressor.predict(X_test)\n",
        "rf_mse = mean_squared_error(y_test, rf_predictions)\n",
        "rf_r2 = r2_score(y_test, rf_predictions)\n",
        "\n",
        "# Print the results\n",
        "print(\"Decision Tree Regressor Performance:\")\n",
        "print(\"Mean Squared Error (MSE):\", dt_mse)\n",
        "print(\"R-squared (R2):\", dt_r2)\n",
        "\n",
        "print(\"\\nRandom Forest Regressor Performance:\")\n",
        "print(\"Mean Squared Error (MSE):\", rf_mse)\n",
        "print(\"R-squared (R2):\", rf_r2)\n",
        "\n",
        "#Compare\n",
        "if rf_mse < dt_mse:\n",
        "    print(\"\\nRandom Forest Regressor performs better than Decision Tree Regressor in terms of MSE.\")\n",
        "elif rf_mse > dt_mse:\n",
        "    print(\"\\nDecision Tree Regressor performs better than Random Forest Regressor in terms of MSE.\")\n",
        "else:\n",
        "    print(\"\\nBoth regressors have the same MSE.\")\n",
        "\n",
        "if rf_r2 > dt_r2:\n",
        "    print(\"Random Forest Regressor performs better than Decision Tree Regressor in terms of R2.\")\n",
        "elif rf_r2 < dt_r2:\n",
        "    print(\"Decision Tree Regressor performs better than Random Forest Regressor in terms of R2.\")\n",
        "else:\n",
        "    print(\"Both regressors have the same R2.\")"
      ],
      "metadata": {
        "colab": {
          "base_uri": "https://localhost:8080/"
        },
        "id": "8P_9jfVmZ8yG",
        "outputId": "3ffdd836-02ea-4bd5-c046-23fc3d95ecda"
      },
      "execution_count": 4,
      "outputs": [
        {
          "output_type": "stream",
          "name": "stdout",
          "text": [
            "Decision Tree Regressor Performance:\n",
            "Mean Squared Error (MSE): 5697.789473684211\n",
            "R-squared (R2): -0.05547696148647652\n",
            "\n",
            "Random Forest Regressor Performance:\n",
            "Mean Squared Error (MSE): 2859.641982706767\n",
            "R-squared (R2): 0.47027066465218703\n",
            "\n",
            "Random Forest Regressor performs better than Decision Tree Regressor in terms of MSE.\n",
            "Random Forest Regressor performs better than Decision Tree Regressor in terms of R2.\n"
          ]
        }
      ]
    },
    {
      "cell_type": "code",
      "source": [
        "#  25.Compute the Out-of-Bag (OOB) Score for a Random Forest Classifier.\n",
        "from sklearn.ensemble import RandomForestClassifier\n",
        "from sklearn.datasets import load_breast_cancer\n",
        "from sklearn.model_selection import train_test_split\n",
        "\n",
        "# Load the Breast Cancer dataset\n",
        "data = load_breast_cancer()\n",
        "X = data.data\n",
        "y = data.target\n",
        "\n",
        "# Split the data into training and testing sets\n",
        "X_train, X_test, y_train, y_test = train_test_split(X, y, test_size=0.3, random_state=42)\n",
        "\n",
        "# Create the Random Forest Classifier with oob_score=True\n",
        "rf_classifier = RandomForestClassifier(n_estimators=100, oob_score=True, random_state=42)\n",
        "\n",
        "# Train the Classifier\n",
        "rf_classifier.fit(X_train, y_train)\n",
        "\n",
        "# Get the OOB score\n",
        "oob_score = rf_classifier.oob_score_\n",
        "\n",
        "# Print the OOB score\n",
        "print(\"Out-of-Bag (OOB) Score:\", oob_score)"
      ],
      "metadata": {
        "colab": {
          "base_uri": "https://localhost:8080/"
        },
        "id": "WhQ2JbrMaZP5",
        "outputId": "6fddf604-cdad-4505-ac9f-798eb47bfe11"
      },
      "execution_count": 5,
      "outputs": [
        {
          "output_type": "stream",
          "name": "stdout",
          "text": [
            "Out-of-Bag (OOB) Score: 0.9547738693467337\n"
          ]
        }
      ]
    },
    {
      "cell_type": "code",
      "source": [
        "# 26. Train a Bagging Classifier using SVM as a base estimator and print accuracy.\n",
        "from sklearn.ensemble import BaggingClassifier\n",
        "from sklearn.svm import SVC  # Support Vector Classifier\n",
        "from sklearn.model_selection import train_test_split\n",
        "from sklearn.datasets import load_breast_cancer\n",
        "from sklearn.metrics import accuracy_score\n",
        "\n",
        "# Load the Breast Cancer dataset\n",
        "data = load_breast_cancer()\n",
        "X = data.data\n",
        "y = data.target\n",
        "\n",
        "# Split the data into training and testing sets\n",
        "X_train, X_test, y_train, y_test = train_test_split(X, y, test_size=0.3, random_state=42)\n",
        "\n",
        "# Define the base estimator (SVM)\n",
        "base_estimator = SVC(random_state=42)  # You can tune SVM parameters here\n",
        "\n",
        "# Create the Bagging Classifier with SVM as the base estimator\n",
        "bagging_classifier = BaggingClassifier(base_estimator, n_estimators=10, random_state=42) # You can adjust n_estimators\n",
        "\n",
        "# Train the Bagging Classifier\n",
        "bagging_classifier.fit(X_train, y_train)\n",
        "\n",
        "# Make predictions on the test set\n",
        "y_pred = bagging_classifier.predict(X_test)\n",
        "\n",
        "# Calculate the accuracy of the model\n",
        "accuracy = accuracy_score(y_test, y_pred)\n",
        "\n",
        "# Print the model accuracy\n",
        "print(\"Bagging Classifier Accuracy (with SVM base estimator):\", accuracy)"
      ],
      "metadata": {
        "colab": {
          "base_uri": "https://localhost:8080/"
        },
        "id": "_IO6uAc-aoNq",
        "outputId": "7724e9bf-6c5b-4866-8348-8b925da26b97"
      },
      "execution_count": 6,
      "outputs": [
        {
          "output_type": "stream",
          "name": "stdout",
          "text": [
            "Bagging Classifier Accuracy (with SVM base estimator): 0.9415204678362573\n"
          ]
        }
      ]
    },
    {
      "cell_type": "code",
      "source": [
        "# 27.  Train a Random Forest Classifier with different numbers of trees and compare accuracy.\n",
        "from sklearn.ensemble import RandomForestClassifier\n",
        "from sklearn.datasets import load_breast_cancer\n",
        "from sklearn.model_selection import train_test_split\n",
        "from sklearn.metrics import accuracy_score\n",
        "import matplotlib.pyplot as plt\n",
        "\n",
        "# Load the Breast Cancer dataset\n",
        "data = load_breast_cancer()\n",
        "X = data.data\n",
        "y = data.target\n",
        "\n",
        "# Split the data into training and testing sets\n",
        "X_train, X_test, y_train, y_test = train_test_split(X, y, test_size=0.3, random_state=42)\n",
        "\n",
        "# Define a range of number of trees to try\n",
        "n_estimators_list = [50, 100, 150, 200, 250, 300]\n",
        "accuracies = []\n",
        "\n",
        "# Train and evaluate Random Forest Classifiers with different numbers of trees\n",
        "for n_estimators in n_estimators_list:\n",
        "    rf_classifier = RandomForestClassifier(n_estimators=n_estimators, random_state=42)\n",
        "    rf_classifier.fit(X_train, y_train)\n",
        "    y_pred = rf_classifier.predict(X_test)\n",
        "    accuracy = accuracy_score(y_test, y_pred)\n",
        "    accuracies.append(accuracy)\n",
        "\n",
        "# Print the results\n",
        "print(\"Accuracy for different numbers of trees:\")\n",
        "for i in range(len(n_estimators_list)):\n",
        "    print(f\"n_estimators = {n_estimators_list[i]}, Accuracy = {accuracies[i]}\")\n",
        "\n",
        "# Plot the results\n",
        "plt.plot(n_estimators_list, accuracies, marker='o')\n",
        "plt.xlabel(\"Number of Trees (n_estimators)\")\n",
        "plt.ylabel(\"Accuracy\")\n",
        "plt.title(\"Random Forest Accuracy vs. Number of Trees\")\n",
        "plt.grid(True)\n",
        "plt.show()"
      ],
      "metadata": {
        "colab": {
          "base_uri": "https://localhost:8080/",
          "height": 600
        },
        "id": "0M8Rbt0ba2SZ",
        "outputId": "32472b5e-71b4-4100-d088-fb029b6f86d6"
      },
      "execution_count": 7,
      "outputs": [
        {
          "output_type": "stream",
          "name": "stdout",
          "text": [
            "Accuracy for different numbers of trees:\n",
            "n_estimators = 50, Accuracy = 0.9707602339181286\n",
            "n_estimators = 100, Accuracy = 0.9707602339181286\n",
            "n_estimators = 150, Accuracy = 0.9707602339181286\n",
            "n_estimators = 200, Accuracy = 0.9707602339181286\n",
            "n_estimators = 250, Accuracy = 0.9707602339181286\n",
            "n_estimators = 300, Accuracy = 0.9707602339181286\n"
          ]
        },
        {
          "output_type": "display_data",
          "data": {
            "text/plain": [
              "<Figure size 640x480 with 1 Axes>"
            ],
            "image/png": "[encoded data removed]"
          },
          "metadata": {}
        }
      ]
    },
    {
      "cell_type": "code",
      "source": [
        "# 28.Train a Bagging Classifier using Logistic Regression as a base estimator and print AUC score.\n",
        "from sklearn.ensemble import BaggingClassifier\n",
        "from sklearn.linear_model import LogisticRegression\n",
        "from sklearn.model_selection import train_test_split\n",
        "from sklearn.datasets import load_breast_cancer\n",
        "from sklearn.metrics import roc_auc_score\n",
        "\n",
        "# Load the Breast Cancer dataset\n",
        "data = load_breast_cancer()\n",
        "X = data.data\n",
        "y = data.target\n",
        "\n",
        "# Split the data into training and testing sets\n",
        "X_train, X_test, y_train, y_test = train_test_split(X, y, test_size=0.3, random_state=42)\n",
        "\n",
        "# Define the base estimator (Logistic Regression)\n",
        "base_estimator = LogisticRegression(solver='liblinear', random_state=42) # You can tune Logistic Regression parameters\n",
        "\n",
        "# Create the Bagging Classifier with Logistic Regression as the base estimator\n",
        "bagging_classifier = BaggingClassifier(base_estimator, n_estimators=10, random_state=42)\n",
        "\n",
        "# Train the Bagging Classifier\n",
        "bagging_classifier.fit(X_train, y_train)\n",
        "\n",
        "# Make predictions on the test set\n",
        "y_pred_proba = bagging_classifier.predict_proba(X_test)[:, 1]  # Get predicted probabilities for the positive class\n",
        "\n",
        "# Calculate the AUC score\n",
        "auc = roc_auc_score(y_test, y_pred_proba)\n",
        "\n",
        "# Print the AUC score\n",
        "print(\"Bagging Classifier AUC Score (with Logistic Regression base estimator):\", auc)"
      ],
      "metadata": {
        "colab": {
          "base_uri": "https://localhost:8080/"
        },
        "id": "4N4mEAbybCtr",
        "outputId": "578b4943-91f0-43c4-ac22-e061b21ef4ac"
      },
      "execution_count": 8,
      "outputs": [
        {
          "output_type": "stream",
          "name": "stdout",
          "text": [
            "Bagging Classifier AUC Score (with Logistic Regression base estimator): 0.9977954144620812\n"
          ]
        }
      ]
    },
    {
      "cell_type": "code",
      "source": [
        "# 29. Train a Random Forest Regressor and analyze feature importance scores.\n",
        "from sklearn.ensemble import RandomForestRegressor\n",
        "from sklearn.datasets import load_diabetes  # Or any other regression dataset\n",
        "from sklearn.model_selection import train_test_split\n",
        "import pandas as pd\n",
        "import matplotlib.pyplot as plt\n",
        "\n",
        "# Load a sample regression dataset\n",
        "data = load_diabetes()\n",
        "X = data.data\n",
        "y = data.target\n",
        "\n",
        "# Split the data into training and testing sets\n",
        "X_train, X_test, y_train, y_test = train_test_split(X, y, test_size=0.3, random_state=42)\n",
        "\n",
        "# Create a Random Forest Regressor\n",
        "rf_regressor = RandomForestRegressor(n_estimators=100, random_state=42)\n",
        "rf_regressor.fit(X_train, y_train)\n",
        "\n",
        "# Get feature importance scores\n",
        "feature_importances = rf_regressor.feature_importances_\n",
        "\n",
        "# Create a DataFrame to display feature importances\n",
        "feature_names = data.feature_names\n",
        "feature_importance_df = pd.DataFrame({'Feature': feature_names, 'Importance': feature_importances})\n",
        "\n",
        "# Sort the DataFrame by importance\n",
        "feature_importance_df = feature_importance_df.sort_values(by='Importance', ascending=False)\n",
        "\n",
        "# Print the feature importance scores\n",
        "print(\"Feature Importance Scores:\")\n",
        "print(feature_importance_df)\n",
        "\n",
        "# Visualize feature importances\n",
        "plt.figure(figsize=(10, 6))\n",
        "plt.barh(feature_importance_df['Feature'], feature_importance_df['Importance'])\n",
        "plt.xlabel(\"Importance\")\n",
        "plt.ylabel(\"Feature\")\n",
        "plt.title(\"Random Forest Regressor - Feature Importance\")\n",
        "plt.show()\n"
      ],
      "metadata": {
        "colab": {
          "base_uri": "https://localhost:8080/",
          "height": 783
        },
        "id": "KxGjDQnJbQTs",
        "outputId": "0554bf8c-779f-4f3e-b741-d09ac2f3a7ef"
      },
      "execution_count": 9,
      "outputs": [
        {
          "output_type": "stream",
          "name": "stdout",
          "text": [
            "Feature Importance Scores:\n",
            "  Feature  Importance\n",
            "2     bmi    0.400000\n",
            "8      s5    0.166602\n",
            "3      bp    0.104839\n",
            "9      s6    0.071358\n",
            "6      s3    0.061730\n",
            "0     age    0.058633\n",
            "4      s1    0.049191\n",
            "5      s2    0.047138\n",
            "7      s4    0.029427\n",
            "1     sex    0.011082\n"
          ]
        },
        {
          "output_type": "display_data",
          "data": {
            "text/plain": [
              "<Figure size 1000x600 with 1 Axes>"
            ],
            "image/png": "[encoded data removed]"
          },
          "metadata": {}
        }
      ]
    },
    {
      "cell_type": "code",
      "source": [
        "# 30. Train an ensemble model using both Bagging and Random Forest and compare accuracy.\n",
        "from sklearn.ensemble import BaggingClassifier, RandomForestClassifier\n",
        "from sklearn.tree import DecisionTreeClassifier\n",
        "from sklearn.model_selection import train_test_split\n",
        "from sklearn.datasets import load_breast_cancer\n",
        "from sklearn.metrics import accuracy_score\n",
        "\n",
        "# Load the Breast Cancer dataset\n",
        "data = load_breast_cancer()\n",
        "X = data.data\n",
        "y = data.target\n",
        "\n",
        "# Split the data into training and testing sets\n",
        "X_train, X_test, y_train, y_test = train_test_split(X, y, test_size=0.3, random_state=42)\n",
        "\n",
        "# 1. Train a Bagging Classifier\n",
        "bagging_classifier = BaggingClassifier(\n",
        "    estimator=DecisionTreeClassifier(random_state=42),\n",
        "    n_estimators=100,\n",
        "    random_state=42\n",
        ")\n",
        "bagging_classifier.fit(X_train, y_train)\n",
        "bagging_predictions = bagging_classifier.predict(X_test)\n",
        "bagging_accuracy = accuracy_score(y_test, bagging_predictions)\n",
        "\n",
        "# 2. Train a Random Forest Classifier\n",
        "rf_classifier = RandomForestClassifier(n_estimators=100, random_state=42)\n",
        "rf_classifier.fit(X_train, y_train)\n",
        "rf_predictions = rf_classifier.predict(X_test)\n",
        "rf_accuracy = accuracy_score(y_test, rf_predictions)\n",
        "\n",
        "# 3. Compare Accuracy\n",
        "print(\"Bagging Classifier Accuracy:\", bagging_accuracy)\n",
        "print(\"Random Forest Classifier Accuracy:\", rf_accuracy)\n",
        "\n",
        "if bagging_accuracy > rf_accuracy:\n",
        "    print(\"\\nBagging Classifier performed better than Random Forest Classifier.\")\n",
        "elif rf_accuracy > bagging_accuracy:\n",
        "    print(\"\\nRandom Forest Classifier performed better than Bagging Classifier.\")\n",
        "else:\n",
        "    print(\"\\nBoth classifiers achieved the same accuracy.\")"
      ],
      "metadata": {
        "colab": {
          "base_uri": "https://localhost:8080/"
        },
        "id": "ukfgyDeebt19",
        "outputId": "e29a88ab-106c-44ff-8ed9-cdc85f3df0b2"
      },
      "execution_count": 11,
      "outputs": [
        {
          "output_type": "stream",
          "name": "stdout",
          "text": [
            "Bagging Classifier Accuracy: 0.9590643274853801\n",
            "Random Forest Classifier Accuracy: 0.9707602339181286\n",
            "\n",
            "Random Forest Classifier performed better than Bagging Classifier.\n"
          ]
        }
      ]
    },
    {
      "cell_type": "code",
      "source": [
        "# 31. Train a Random Forest Classifier and tune hyperparameters using GridSearchCV.\n",
        "from sklearn.ensemble import RandomForestClassifier\n",
        "from sklearn.datasets import load_breast_cancer\n",
        "from sklearn.model_selection import train_test_split, GridSearchCV\n",
        "from sklearn.metrics import accuracy_score\n",
        "\n",
        "# Load the Breast Cancer dataset\n",
        "data = load_breast_cancer()\n",
        "X = data.data\n",
        "y = data.target\n",
        "\n",
        "# Split the data into training and testing sets\n",
        "X_train, X_test, y_train, y_test = train_test_split(X, y, test_size=0.3, random_state=42)\n",
        "\n",
        "# Define the parameter grid to search\n",
        "param_grid = {\n",
        "    'n_estimators': [50, 100, 150, 200],\n",
        "    'max_depth': [5, 10, 15, None],  # None means no maximum depth\n",
        "    'min_samples_split': [2, 5, 10],\n",
        "    'min_samples_leaf': [1, 2, 4]\n",
        "}\n",
        "\n",
        "# Create the Random Forest Classifier\n",
        "rf_classifier = RandomForestClassifier(random_state=42)\n",
        "\n",
        "# Create the GridSearchCV object\n",
        "grid_search = GridSearchCV(\n",
        "    estimator=rf_classifier,\n",
        "    param_grid=param_grid,\n",
        "    cv=3,  # Number of cross-validation folds\n",
        "    scoring='accuracy',\n",
        "    n_jobs=-1,  # Use all available processors\n",
        "    verbose=1\n",
        ")\n",
        "\n",
        "# Perform the grid search to find the best hyperparameters\n",
        "grid_search.fit(X_train, y_train)\n",
        "\n",
        "# Get the best hyperparameters\n",
        "best_params = grid_search.best_params_\n",
        "print(\"Best Hyperparameters:\", best_params)\n",
        "\n",
        "# Get the best model\n",
        "best_rf_classifier = grid_search.best_estimator_\n",
        "\n",
        "# Make predictions on the test set using the best model\n",
        "y_pred = best_rf_classifier.predict(X_test)\n",
        "\n",
        "# Calculate the accuracy of the best model\n",
        "accuracy = accuracy_score(y_test, y_pred)\n",
        "print(\"Accuracy with Best Hyperparameters:\", accuracy)"
      ],
      "metadata": {
        "colab": {
          "base_uri": "https://localhost:8080/"
        },
        "id": "AYmtZX3ucZy2",
        "outputId": "3b7a3487-cb6d-4906-dc4f-2b64cbfdf470"
      },
      "execution_count": 12,
      "outputs": [
        {
          "output_type": "stream",
          "name": "stdout",
          "text": [
            "Fitting 3 folds for each of 144 candidates, totalling 432 fits\n",
            "Best Hyperparameters: {'max_depth': 10, 'min_samples_leaf': 1, 'min_samples_split': 2, 'n_estimators': 50}\n",
            "Accuracy with Best Hyperparameters: 0.9707602339181286\n"
          ]
        }
      ]
    },
    {
      "cell_type": "code",
      "source": [
        "# 32. Train a Bagging Regressor with different numbers of base estimators and compare performance.\n",
        "from sklearn.ensemble import BaggingRegressor\n",
        "from sklearn.tree import DecisionTreeRegressor\n",
        "from sklearn.model_selection import train_test_split\n",
        "from sklearn.datasets import load_diabetes\n",
        "from sklearn.metrics import mean_squared_error, r2_score\n",
        "import matplotlib.pyplot as plt\n",
        "\n",
        "# Load the Diabetes dataset\n",
        "data = load_diabetes()\n",
        "X = data.data\n",
        "y = data.target\n",
        "\n",
        "# Split the data into training and testing sets\n",
        "X_train, X_test, y_train, y_test = train_test_split(X, y, test_size=0.3, random_state=42)\n",
        "\n",
        "# Define the range of number of base estimators (trees) to try\n",
        "n_estimators_list = [10, 50, 100, 150, 200]\n",
        "mse_scores = []\n",
        "r2_scores = []\n",
        "\n",
        "# Train and evaluate Bagging Regressors with different numbers of estimators\n",
        "for n_estimators in n_estimators_list:\n",
        "    # Create a Bagging Regressor with Decision Tree as the base estimator\n",
        "    bagging_regressor = BaggingRegressor(\n",
        "        estimator=DecisionTreeRegressor(random_state=42),\n",
        "        n_estimators=n_estimators,\n",
        "        random_state=42\n",
        "    )\n",
        "\n",
        "    # Train the Bagging Regressor\n",
        "    bagging_regressor.fit(X_train, y_train)\n",
        "\n",
        "    # Make predictions on the test set\n",
        "    y_pred = bagging_regressor.predict(X_test)\n",
        "\n",
        "    # Evaluate the model\n",
        "    mse = mean_squared_error(y_test, y_pred)\n",
        "    r2 = r2_score(y_test, y_pred)\n",
        "\n",
        "    mse_scores.append(mse)\n",
        "    r2_scores.append(r2)\n",
        "\n",
        "# Print the results\n",
        "print(\"Bagging Regressor Performance for Different Numbers of Estimators:\")\n",
        "for i in range(len(n_estimators_list)):\n",
        "    print(f\"n_estimators = {n_estimators_list[i]}, MSE = {mse_scores[i]:.4f}, R2 = {r2_scores[i]:.4f}\")\n",
        "\n",
        "# Plot the results\n",
        "plt.figure(figsize=(10, 5))\n",
        "\n",
        "plt.subplot(1, 2, 1)\n",
        "plt.plot(n_estimators_list, mse_scores, marker='o')\n",
        "plt.xlabel(\"Number of Estimators\")\n",
        "plt.ylabel(\"Mean Squared Error (MSE)\")\n",
        "plt.title(\"MSE vs. Number of Estimators\")\n",
        "plt.grid(True)\n",
        "\n",
        "plt.subplot(1, 2, 2)\n",
        "plt.plot(n_estimators_list, r2_scores, marker='o')\n",
        "plt.xlabel(\"Number of Estimators\")\n",
        "plt.ylabel(\"R-squared (R2)\")\n",
        "plt.title(\"R2 vs. Number of Estimators\")\n",
        "plt.grid(True)\n",
        "\n",
        "plt.tight_layout()  # Adjust layout to prevent overlapping\n",
        "plt.show()"
      ],
      "metadata": {
        "colab": {
          "base_uri": "https://localhost:8080/",
          "height": 617
        },
        "id": "qt6IqQR-dOTt",
        "outputId": "ba141d03-60df-4d36-f31b-8e3035444be0"
      },
      "execution_count": 13,
      "outputs": [
        {
          "output_type": "stream",
          "name": "stdout",
          "text": [
            "Bagging Regressor Performance for Different Numbers of Estimators:\n",
            "n_estimators = 10, MSE = 3237.5265, R2 = 0.4003\n",
            "n_estimators = 50, MSE = 2987.0074, R2 = 0.4467\n",
            "n_estimators = 100, MSE = 2908.8062, R2 = 0.4612\n",
            "n_estimators = 150, MSE = 2896.4898, R2 = 0.4634\n",
            "n_estimators = 200, MSE = 2854.8817, R2 = 0.4712\n"
          ]
        },
        {
          "output_type": "display_data",
          "data": {
            "text/plain": [
              "<Figure size 1000x500 with 2 Axes>"
            ],
            "image/png": "[encoded data removed]"
          },
          "metadata": {}
        }
      ]
    },
    {
      "cell_type": "code",
      "source": [
        "# 33.Train a Random Forest Classifier and analyze misclassified samples.\n",
        "from sklearn.ensemble import RandomForestClassifier\n",
        "from sklearn.datasets import load_breast_cancer\n",
        "from sklearn.model_selection import train_test_split\n",
        "from sklearn.metrics import accuracy_score, classification_report\n",
        "import pandas as pd\n",
        "\n",
        "# Load the Breast Cancer dataset\n",
        "data = load_breast_cancer()\n",
        "X = data.data\n",
        "y = data.target\n",
        "feature_names = data.feature_names  # Store feature names for later use\n",
        "\n",
        "# Split the data into training and testing sets\n",
        "X_train, X_test, y_train, y_test = train_test_split(X, y, test_size=0.3, random_state=42)\n",
        "\n",
        "# Create and train the Random Forest Classifier\n",
        "rf_classifier = RandomForestClassifier(n_estimators=100, random_state=42)\n",
        "rf_classifier.fit(X_train, y_train)\n",
        "\n",
        "# Make predictions on the test set\n",
        "y_pred = rf_classifier.predict(X_test)\n",
        "\n",
        "# Evaluate overall performance\n",
        "print(\"Overall Performance:\")\n",
        "print(classification_report(y_test, y_pred))  # Comprehensive report\n",
        "\n",
        "# Analyze Misclassified Samples\n",
        "misclassified_indices = [i for i, (true, pred) in enumerate(zip(y_test, y_pred)) if true != pred]\n",
        "print(\"\\nNumber of Misclassified Samples:\", len(misclassified_indices))\n",
        "\n",
        "if len(misclassified_indices) > 0:\n",
        "    print(\"\\nDetails of Misclassified Samples (First 10):\") # Limiting to first 10 for brevity\n",
        "    misclassified_data = pd.DataFrame(X_test[misclassified_indices], columns=feature_names)\n",
        "    misclassified_data['True_Label'] = y_test[misclassified_indices]\n",
        "    misclassified_data['Predicted_Label'] = y_pred[misclassified_indices]\n",
        "    print(misclassified_data.head(10))  # Display the first 10 misclassified samples"
      ],
      "metadata": {
        "colab": {
          "base_uri": "https://localhost:8080/"
        },
        "id": "w_shMsbldVpa",
        "outputId": "fb1fc168-f8f3-4c4c-d361-80d30aa34526"
      },
      "execution_count": 14,
      "outputs": [
        {
          "output_type": "stream",
          "name": "stdout",
          "text": [
            "Overall Performance:\n",
            "              precision    recall  f1-score   support\n",
            "\n",
            "           0       0.98      0.94      0.96        63\n",
            "           1       0.96      0.99      0.98       108\n",
            "\n",
            "    accuracy                           0.97       171\n",
            "   macro avg       0.97      0.96      0.97       171\n",
            "weighted avg       0.97      0.97      0.97       171\n",
            "\n",
            "\n",
            "Number of Misclassified Samples: 5\n",
            "\n",
            "Details of Misclassified Samples (First 10):\n",
            "   mean radius  mean texture  mean perimeter  mean area  mean smoothness  \\\n",
            "0        13.34         15.86           86.49      520.0          0.10780   \n",
            "1        13.80         15.79           90.43      584.1          0.10070   \n",
            "2        13.96         17.05           91.43      602.4          0.10960   \n",
            "3        14.48         21.46           94.25      648.2          0.09444   \n",
            "4        15.13         29.81           96.71      719.5          0.08320   \n",
            "\n",
            "   mean compactness  mean concavity  mean concave points  mean symmetry  \\\n",
            "0           0.15350         0.11690              0.06987         0.1942   \n",
            "1           0.12800         0.07789              0.05069         0.1662   \n",
            "2           0.12790         0.09789              0.05246         0.1908   \n",
            "3           0.09947         0.12040              0.04938         0.2075   \n",
            "4           0.04605         0.04686              0.02739         0.1852   \n",
            "\n",
            "   mean fractal dimension  ...  worst perimeter  worst area  worst smoothness  \\\n",
            "0                 0.06902  ...            96.66       614.9            0.1536   \n",
            "1                 0.06566  ...           110.30       812.4            0.1411   \n",
            "2                 0.06130  ...           108.10       826.0            0.1512   \n",
            "3                 0.05636  ...           108.40       808.9            0.1306   \n",
            "4                 0.05294  ...           110.10       931.4            0.1148   \n",
            "\n",
            "   worst compactness  worst concavity  worst concave points  worst symmetry  \\\n",
            "0            0.47910           0.4858               0.17080          0.3527   \n",
            "1            0.35420           0.2779               0.13830          0.2589   \n",
            "2            0.32620           0.3209               0.13740          0.3068   \n",
            "3            0.19760           0.3349               0.12250          0.3020   \n",
            "4            0.09866           0.1547               0.06575          0.3233   \n",
            "\n",
            "   worst fractal dimension  True_Label  Predicted_Label  \n",
            "0                  0.10160           1                0  \n",
            "1                  0.10300           0                1  \n",
            "2                  0.07957           0                1  \n",
            "3                  0.06846           0                1  \n",
            "4                  0.06165           0                1  \n",
            "\n",
            "[5 rows x 32 columns]\n"
          ]
        }
      ]
    },
    {
      "cell_type": "code",
      "source": [
        "# 34. Train a Bagging Classifier and compare its performance with a single Decision Tree Classifier.\n",
        "from sklearn.ensemble import BaggingClassifier\n",
        "from sklearn.tree import DecisionTreeClassifier\n",
        "from sklearn.model_selection import train_test_split\n",
        "from sklearn.datasets import load_breast_cancer\n",
        "from sklearn.metrics import accuracy_score\n",
        "\n",
        "# Load the Breast Cancer dataset\n",
        "data = load_breast_cancer()\n",
        "X = data.data\n",
        "y = data.target\n",
        "\n",
        "# Split the data into training and testing sets\n",
        "X_train, X_test, y_train, y_test = train_test_split(X, y, test_size=0.3, random_state=42)\n",
        "\n",
        "# 1. Train a single Decision Tree Classifier\n",
        "dt_classifier = DecisionTreeClassifier(random_state=42)\n",
        "dt_classifier.fit(X_train, y_train)\n",
        "dt_predictions = dt_classifier.predict(X_test)\n",
        "dt_accuracy = accuracy_score(y_test, dt_predictions)\n",
        "\n",
        "# 2. Train a Bagging Classifier with Decision Trees as base estimators\n",
        "bagging_classifier = BaggingClassifier(\n",
        "    estimator=DecisionTreeClassifier(random_state=42),\n",
        "    n_estimators=100,  # You can tune this\n",
        "    random_state=42\n",
        ")\n",
        "bagging_classifier.fit(X_train, y_train)\n",
        "bagging_predictions = bagging_classifier.predict(X_test)\n",
        "bagging_accuracy = accuracy_score(y_test, bagging_predictions)\n",
        "\n",
        "# 3. Compare the performance\n",
        "print(\"Decision Tree Classifier Accuracy:\", dt_accuracy)\n",
        "print(\"Bagging Classifier Accuracy:\", bagging_accuracy)\n",
        "\n",
        "if bagging_accuracy > dt_accuracy:\n",
        "    print(\"\\nBagging Classifier performed better than the single Decision Tree Classifier.\")\n",
        "elif dt_accuracy > bagging_accuracy:\n",
        "    print(\"\\nSingle Decision Tree Classifier performed better than the Bagging Classifier.\")\n",
        "else:\n",
        "    print(\"\\nBoth classifiers achieved the same accuracy.\")"
      ],
      "metadata": {
        "colab": {
          "base_uri": "https://localhost:8080/"
        },
        "id": "cS8u6Gf1dmOk",
        "outputId": "457cb179-b83b-4026-8bf8-b683760b7986"
      },
      "execution_count": 15,
      "outputs": [
        {
          "output_type": "stream",
          "name": "stdout",
          "text": [
            "Decision Tree Classifier Accuracy: 0.9415204678362573\n",
            "Bagging Classifier Accuracy: 0.9590643274853801\n",
            "\n",
            "Bagging Classifier performed better than the single Decision Tree Classifier.\n"
          ]
        }
      ]
    },
    {
      "cell_type": "code",
      "source": [
        "# 35. Train a Random Forest Classifier and visualize the confusion matrix.\n",
        "from sklearn.ensemble import RandomForestClassifier\n",
        "from sklearn.datasets import load_breast_cancer\n",
        "from sklearn.model_selection import train_test_split\n",
        "from sklearn.metrics import confusion_matrix, ConfusionMatrixDisplay\n",
        "import matplotlib.pyplot as plt\n",
        "\n",
        "# Load the Breast Cancer dataset\n",
        "data = load_breast_cancer()\n",
        "X = data.data\n",
        "y = data.target\n",
        "class_names = data.target_names\n",
        "\n",
        "# Split the data into training and testing sets\n",
        "X_train, X_test, y_train, y_test = train_test_split(X, y, test_size=0.3, random_state=42)\n",
        "\n",
        "# Create and train the Random Forest Classifier\n",
        "rf_classifier = RandomForestClassifier(n_estimators=100, random_state=42)\n",
        "rf_classifier.fit(X_train, y_train)\n",
        "\n",
        "# Make predictions on the test set\n",
        "y_pred = rf_classifier.predict(X_test)\n",
        "\n",
        "# Create the confusion matrix\n",
        "cm = confusion_matrix(y_test, y_pred)\n",
        "\n",
        "# Visualize the confusion matrix\n",
        "disp = ConfusionMatrixDisplay(confusion_matrix=cm, display_labels=class_names)\n",
        "disp.plot(cmap=plt.cm.Blues)\n",
        "plt.title('Confusion Matrix for Random Forest Classifier')\n",
        "plt.show()"
      ],
      "metadata": {
        "colab": {
          "base_uri": "https://localhost:8080/",
          "height": 472
        },
        "id": "qk-bjvKKd7cm",
        "outputId": "ce3b39bc-0c12-44c6-99e5-b756aaf9ea5f"
      },
      "execution_count": 16,
      "outputs": [
        {
          "output_type": "display_data",
          "data": {
            "text/plain": [
              "<Figure size 640x480 with 2 Axes>"
            ],
            "image/png": "[encoded data removed]"
          },
          "metadata": {}
        }
      ]
    },
    {
      "cell_type": "code",
      "source": [
        "# 36. Train a Stacking Classifier using Decision Trees, SVM, and Logistic Regression, and compare accuracy.\n",
        "from sklearn.ensemble import StackingClassifier\n",
        "from sklearn.tree import DecisionTreeClassifier\n",
        "from sklearn.svm import SVC\n",
        "from sklearn.linear_model import LogisticRegression\n",
        "from sklearn.model_selection import train_test_split\n",
        "from sklearn.datasets import load_breast_cancer\n",
        "from sklearn.metrics import accuracy_score\n",
        "\n",
        "# Load the Breast Cancer dataset\n",
        "data = load_breast_cancer()\n",
        "X = data.data\n",
        "y = data.target\n",
        "\n",
        "# Split the data into training and testing sets\n",
        "X_train, X_test, y_train, y_test = train_test_split(X, y, test_size=0.3, random_state=42)\n",
        "\n",
        "# Define the base classifiers\n",
        "base_classifiers = [\n",
        "    ('dt', DecisionTreeClassifier(random_state=42)),\n",
        "    ('svm', SVC(probability=True, random_state=42)),  # probability=True for stacking\n",
        "    ('lr', LogisticRegression(solver='liblinear', random_state=42))\n",
        "]\n",
        "\n",
        "# Define the meta-classifier\n",
        "meta_classifier = LogisticRegression(solver='liblinear', random_state=42)\n",
        "\n",
        "# Create the Stacking Classifier\n",
        "stacking_classifier = StackingClassifier(\n",
        "    estimators=base_classifiers,\n",
        "    final_estimator=meta_classifier,\n",
        "    cv=5  # Cross-validation folds\n",
        ")\n",
        "\n",
        "# Train the Stacking Classifier\n",
        "stacking_classifier.fit(X_train, y_train)\n",
        "\n",
        "# Make predictions on the test set\n",
        "stacking_predictions = stacking_classifier.predict(X_test)\n",
        "stacking_accuracy = accuracy_score(y_test, stacking_predictions)\n",
        "\n",
        "# Train a single Logistic Regression model for comparison\n",
        "lr_classifier = LogisticRegression(solver='liblinear', random_state=42)\n",
        "lr_classifier.fit(X_train, y_train)\n",
        "lr_predictions = lr_classifier.predict(X_test)\n",
        "lr_accuracy = accuracy_score(y_test, lr_predictions)\n",
        "\n",
        "# Compare Accuracy\n",
        "print(\"Stacking Classifier Accuracy:\", stacking_accuracy)\n",
        "print(\"Logistic Regression Accuracy:\", lr_accuracy)\n",
        "\n",
        "if stacking_accuracy > lr_accuracy:\n",
        "    print(\"\\nStacking Classifier performed better than Logistic Regression.\")\n",
        "elif lr_accuracy > stacking_accuracy:\n",
        "    print(\"\\nLogistic Regression performed better than Stacking Classifier.\")\n",
        "else:\n",
        "    print(\"\\nBoth classifiers achieved the same accuracy.\")"
      ],
      "metadata": {
        "colab": {
          "base_uri": "https://localhost:8080/"
        },
        "id": "ynDACwjoeG9x",
        "outputId": "46fb5894-ca27-4cb0-d606-81d293c2a42b"
      },
      "execution_count": 17,
      "outputs": [
        {
          "output_type": "stream",
          "name": "stdout",
          "text": [
            "Stacking Classifier Accuracy: 0.9766081871345029\n",
            "Logistic Regression Accuracy: 0.9649122807017544\n",
            "\n",
            "Stacking Classifier performed better than Logistic Regression.\n"
          ]
        }
      ]
    },
    {
      "cell_type": "code",
      "source": [
        "# 36.  Train a Random Forest Classifier and print the top 5 most important features.\n",
        "from sklearn.ensemble import RandomForestClassifier\n",
        "from sklearn.datasets import load_breast_cancer\n",
        "from sklearn.model_selection import train_test_split\n",
        "import pandas as pd\n",
        "\n",
        "# Load the Breast Cancer dataset\n",
        "data = load_breast_cancer()\n",
        "X = data.data\n",
        "y = data.target\n",
        "feature_names = data.feature_names\n",
        "\n",
        "# Split the data into training and testing sets\n",
        "X_train, X_test, y_train, y_test = train_test_split(X, y, test_size=0.3, random_state=42)\n",
        "\n",
        "# Create the Random Forest Classifier\n",
        "rf_classifier = RandomForestClassifier(n_estimators=100, random_state=42)\n",
        "rf_classifier.fit(X_train, y_train)\n",
        "\n",
        "# Get feature importances\n",
        "feature_importances = rf_classifier.feature_importances_\n",
        "\n",
        "# Create a DataFrame to display feature importances\n",
        "feature_importance_df = pd.DataFrame({'Feature': feature_names, 'Importance': feature_importances})\n",
        "\n",
        "# Sort the DataFrame by importance\n",
        "feature_importance_df = feature_importance_df.sort_values(by='Importance', ascending=False)\n",
        "\n",
        "# Print the top 5 most important features\n",
        "print(\"Top 5 Most Important Features:\")\n",
        "print(feature_importance_df.head(5))"
      ],
      "metadata": {
        "colab": {
          "base_uri": "https://localhost:8080/"
        },
        "id": "T64zb8EseTkA",
        "outputId": "7f35540b-b9a6-4e31-cfdb-025ac002b78e"
      },
      "execution_count": 18,
      "outputs": [
        {
          "output_type": "stream",
          "name": "stdout",
          "text": [
            "Top 5 Most Important Features:\n",
            "                 Feature  Importance\n",
            "7    mean concave points    0.141934\n",
            "27  worst concave points    0.127136\n",
            "23            worst area    0.118217\n",
            "6         mean concavity    0.080557\n",
            "20          worst radius    0.077975\n"
          ]
        }
      ]
    },
    {
      "cell_type": "code",
      "source": [
        "# 38. Train a Bagging Classifier and evaluate performance using Precision, Recall, and F1-score.\n",
        "from sklearn.ensemble import BaggingClassifier\n",
        "from sklearn.tree import DecisionTreeClassifier\n",
        "from sklearn.model_selection import train_test_split\n",
        "from sklearn.datasets import load_breast_cancer\n",
        "from sklearn.metrics import precision_score, recall_score, f1_score, classification_report\n",
        "\n",
        "# Load the Breast Cancer dataset\n",
        "data = load_breast_cancer()\n",
        "X = data.data\n",
        "y = data.target\n",
        "\n",
        "# Split the data into training and testing sets\n",
        "X_train, X_test, y_train, y_test = train_test_split(X, y, test_size=0.3, random_state=42)\n",
        "\n",
        "# Create the Bagging Classifier\n",
        "bagging_classifier = BaggingClassifier(\n",
        "    estimator=DecisionTreeClassifier(random_state=42),\n",
        "    n_estimators=100,\n",
        "    random_state=42\n",
        ")\n",
        "\n",
        "# Train the Bagging Classifier\n",
        "bagging_classifier.fit(X_train, y_train)\n",
        "\n",
        "# Make predictions on the test set\n",
        "y_pred = bagging_classifier.predict(X_test)\n",
        "\n",
        "# Evaluate performance using Precision, Recall, and F1-score\n",
        "precision = precision_score(y_test, y_pred)\n",
        "recall = recall_score(y_test, y_pred)\n",
        "f1 = f1_score(y_test, y_pred)\n",
        "\n",
        "print(\"Bagging Classifier Performance:\")\n",
        "print(f\"Precision: {precision:.4f}\")\n",
        "print(f\"Recall: {recall:.4f}\")\n",
        "print(f\"F1-score: {f1:.4f}\")\n",
        "\n",
        "# Print a more detailed classification report\n",
        "print(\"\\nClassification Report:\")\n",
        "print(classification_report(y_test, y_pred))"
      ],
      "metadata": {
        "colab": {
          "base_uri": "https://localhost:8080/"
        },
        "id": "Xn9eLUK6ef9u",
        "outputId": "3e1a9234-38a9-4da8-c488-f8e86ebf4477"
      },
      "execution_count": 19,
      "outputs": [
        {
          "output_type": "stream",
          "name": "stdout",
          "text": [
            "Bagging Classifier Performance:\n",
            "Precision: 0.9633\n",
            "Recall: 0.9722\n",
            "F1-score: 0.9677\n",
            "\n",
            "Classification Report:\n",
            "              precision    recall  f1-score   support\n",
            "\n",
            "           0       0.95      0.94      0.94        63\n",
            "           1       0.96      0.97      0.97       108\n",
            "\n",
            "    accuracy                           0.96       171\n",
            "   macro avg       0.96      0.95      0.96       171\n",
            "weighted avg       0.96      0.96      0.96       171\n",
            "\n"
          ]
        }
      ]
    },
    {
      "cell_type": "code",
      "source": [
        "# 39.  Train a Random Forest Classifier and analyze the effect of max_depth on accuracy.\n",
        "from sklearn.ensemble import RandomForestClassifier\n",
        "from sklearn.datasets import load_breast_cancer\n",
        "from sklearn.model_selection import train_test_split\n",
        "from sklearn.metrics import accuracy_score\n",
        "import matplotlib.pyplot as plt\n",
        "\n",
        "# Load the Breast Cancer dataset\n",
        "data = load_breast_cancer()\n",
        "X = data.data\n",
        "y = data.target\n",
        "\n",
        "# Split the data into training and testing sets\n",
        "X_train, X_test, y_train, y_test = train_test_split(X, y, test_size=0.3, random_state=42)\n",
        "\n",
        "# Define a range of max_depth values to try\n",
        "max_depth_list = [None, 5, 10, 15, 20, 25]  # Include None for no max depth\n",
        "accuracies = []\n",
        "\n",
        "# Train and evaluate Random Forest Classifiers with different max_depth values\n",
        "for max_depth in max_depth_list:\n",
        "    rf_classifier = RandomForestClassifier(n_estimators=100, max_depth=max_depth, random_state=42)\n",
        "    rf_classifier.fit(X_train, y_train)\n",
        "    y_pred = rf_classifier.predict(X_test)\n",
        "    accuracy = accuracy_score(y_test, y_pred)\n",
        "    accuracies.append(accuracy)\n",
        "\n",
        "# Print the results\n",
        "print(\"Accuracy for different max_depth values:\")\n",
        "for i in range(len(max_depth_list)):\n",
        "    print(f\"max_depth = {max_depth_list[i]}, Accuracy = {accuracies[i]:.4f}\")\n",
        "\n",
        "# Plot the results\n",
        "plt.plot(max_depth_list, accuracies, marker='o')\n",
        "plt.xlabel(\"Max Depth\")\n",
        "plt.ylabel(\"Accuracy\")\n",
        "plt.title(\"Random Forest Accuracy vs. Max Depth\")\n",
        "plt.xticks(range(len(max_depth_list)), [str(depth) for depth in max_depth_list]) # Label x-axis correctly\n",
        "plt.grid(True)\n",
        "plt.show()"
      ],
      "metadata": {
        "colab": {
          "base_uri": "https://localhost:8080/",
          "height": 600
        },
        "id": "5gVDRL7XexHF",
        "outputId": "1955bdf4-9840-4278-de43-63140410943a"
      },
      "execution_count": 20,
      "outputs": [
        {
          "output_type": "stream",
          "name": "stdout",
          "text": [
            "Accuracy for different max_depth values:\n",
            "max_depth = None, Accuracy = 0.9708\n",
            "max_depth = 5, Accuracy = 0.9649\n",
            "max_depth = 10, Accuracy = 0.9708\n",
            "max_depth = 15, Accuracy = 0.9708\n",
            "max_depth = 20, Accuracy = 0.9708\n",
            "max_depth = 25, Accuracy = 0.9708\n"
          ]
        },
        {
          "output_type": "display_data",
          "data": {
            "text/plain": [
              "<Figure size 640x480 with 1 Axes>"
            ],
            "image/png": "[encoded data removed]"
          },
          "metadata": {}
        }
      ]
    },
    {
      "cell_type": "code",
      "source": [
        "# 40. Train a Bagging Regressor using different base estimators (DecisionTree and KNeighbors) and compare\n",
        "# performance\n",
        "from sklearn.ensemble import BaggingRegressor\n",
        "from sklearn.tree import DecisionTreeRegressor\n",
        "from sklearn.neighbors import KNeighborsRegressor\n",
        "from sklearn.model_selection import train_test_split\n",
        "from sklearn.datasets import load_diabetes  # Or another regression dataset\n",
        "from sklearn.metrics import mean_squared_error, r2_score\n",
        "\n",
        "# Load the Diabetes dataset\n",
        "data = load_diabetes()\n",
        "X = data.data\n",
        "y = data.target\n",
        "\n",
        "# Split the data into training and testing sets\n",
        "X_train, X_test, y_train, y_test = train_test_split(X, y, test_size=0.3, random_state=42)\n",
        "\n",
        "# 1. Bagging with Decision Tree Regressor\n",
        "bagging_dt = BaggingRegressor(\n",
        "    estimator=DecisionTreeRegressor(random_state=42),\n",
        "    n_estimators=100,\n",
        "    random_state=42\n",
        ")\n",
        "bagging_dt.fit(X_train, y_train)\n",
        "bagging_dt_predictions = bagging_dt.predict(X_test)\n",
        "bagging_dt_mse = mean_squared_error(y_test, bagging_dt_predictions)\n",
        "bagging_dt_r2 = r2_score(y_test, bagging_dt_predictions)\n",
        "\n",
        "# 2. Bagging with KNeighbors Regressor\n",
        "bagging_knn = BaggingRegressor(\n",
        "    estimator=KNeighborsRegressor(),\n",
        "    n_estimators=100,\n",
        "    random_state=42\n",
        ")\n",
        "bagging_knn.fit(X_train, y_train)\n",
        "bagging_knn_predictions = bagging_knn.predict(X_test)\n",
        "bagging_knn_mse = mean_squared_error(y_test, bagging_knn_predictions)\n",
        "bagging_knn_r2 = r2_score(y_test, bagging_knn_predictions)\n",
        "\n",
        "# Print the results\n",
        "print(\"Bagging with Decision Tree Regressor:\")\n",
        "print(\"MSE:\", bagging_dt_mse)\n",
        "print(\"R2:\", bagging_dt_r2)\n",
        "\n",
        "print(\"\\nBagging with KNeighbors Regressor:\")\n",
        "print(\"MSE:\", bagging_knn_mse)\n",
        "print(\"R2:\", bagging_knn_r2)\n",
        "\n",
        "# Compare performance\n",
        "print(\"\\nComparison:\")\n",
        "if bagging_dt_mse < bagging_knn_mse:\n",
        "    print(\"Bagging with Decision Tree performs better in terms of MSE.\")\n",
        "elif bagging_knn_mse < bagging_dt_mse:\n",
        "    print(\"Bagging with KNeighbors performs better in terms of MSE.\")\n",
        "else:\n",
        "    print(\"Both Bagging regressors have the same MSE.\")\n",
        "\n",
        "if bagging_dt_r2 > bagging_knn_r2:\n",
        "    print(\"Bagging with Decision Tree performs better in terms of R2.\")\n",
        "elif bagging_knn_r2 > bagging_dt_r2:\n",
        "    print(\"Bagging with KNeighbors performs better in terms of R2.\")\n",
        "else:\n",
        "    print(\"Both Bagging regressors have the same R2.\")"
      ],
      "metadata": {
        "colab": {
          "base_uri": "https://localhost:8080/"
        },
        "id": "4ovBw5rIfCKt",
        "outputId": "975600c9-dee0-4c6c-d219-baab3f34f23a"
      },
      "execution_count": 21,
      "outputs": [
        {
          "output_type": "stream",
          "name": "stdout",
          "text": [
            "Bagging with Decision Tree Regressor:\n",
            "MSE: 2908.80615037594\n",
            "R2: 0.4611633351263882\n",
            "\n",
            "Bagging with KNeighbors Regressor:\n",
            "MSE: 3188.7382217142854\n",
            "R2: 0.4093078123059275\n",
            "\n",
            "Comparison:\n",
            "Bagging with Decision Tree performs better in terms of MSE.\n",
            "Bagging with Decision Tree performs better in terms of R2.\n"
          ]
        }
      ]
    },
    {
      "cell_type": "code",
      "source": [
        "# 41.  Train a Random Forest Classifier and evaluate its performance using ROC-AUC Score\n",
        "from sklearn.ensemble import RandomForestClassifier\n",
        "from sklearn.datasets import load_breast_cancer\n",
        "from sklearn.model_selection import train_test_split\n",
        "from sklearn.metrics import roc_auc_score\n",
        "\n",
        "# Load the Breast Cancer dataset\n",
        "data = load_breast_cancer()\n",
        "X = data.data\n",
        "y = data.target\n",
        "\n",
        "# Split the data into training and testing sets\n",
        "X_train, X_test, y_train, y_test = train_test_split(X, y, test_size=0.3, random_state=42)\n",
        "\n",
        "# Create the Random Forest Classifier\n",
        "rf_classifier = RandomForestClassifier(n_estimators=100, random_state=42)\n",
        "rf_classifier.fit(X_train, y_train)\n",
        "\n",
        "# Make probability predictions on the test set\n",
        "y_pred_proba = rf_classifier.predict_proba(X_test)[:, 1]\n",
        "\n",
        "# Calculate the ROC-AUC score\n",
        "roc_auc = roc_auc_score(y_test, y_pred_proba)\n",
        "\n",
        "# Print the ROC-AUC score\n",
        "print(\"Random Forest Classifier ROC-AUC Score:\", roc_auc)"
      ],
      "metadata": {
        "colab": {
          "base_uri": "https://localhost:8080/"
        },
        "id": "Bd7RSOkDfTkt",
        "outputId": "d42c406b-45fb-458d-dc1e-68b2411cdf15"
      },
      "execution_count": 22,
      "outputs": [
        {
          "output_type": "stream",
          "name": "stdout",
          "text": [
            "Random Forest Classifier ROC-AUC Score: 0.9968400940623163\n"
          ]
        }
      ]
    },
    {
      "cell_type": "code",
      "source": [
        "# 42. Train a Bagging Classifier and evaluate its performance using cross-validation.\n",
        "from sklearn.ensemble import BaggingClassifier\n",
        "from sklearn.tree import DecisionTreeClassifier\n",
        "from sklearn.model_selection import cross_val_score, KFold, StratifiedKFold\n",
        "from sklearn.datasets import load_breast_cancer\n",
        "import numpy as np\n",
        "\n",
        "# Load the Breast Cancer dataset\n",
        "data = load_breast_cancer()\n",
        "X = data.data\n",
        "y = data.target\n",
        "\n",
        "# Create the Bagging Classifier\n",
        "bagging_classifier = BaggingClassifier(\n",
        "    estimator=DecisionTreeClassifier(random_state=42),\n",
        "    n_estimators=100,\n",
        "    random_state=42\n",
        ")\n",
        "\n",
        "# Define the cross-validation strategy\n",
        "cv = StratifiedKFold(n_splits=5, shuffle=True, random_state=42)  # Recommended for classification\n",
        "\n",
        "# Perform cross-validation and get the scores\n",
        "cv_scores = cross_val_score(bagging_classifier, X, y, cv=cv, scoring='accuracy')\n",
        "\n",
        "# Print the cross-validation scores\n",
        "print(\"Cross-Validation Scores:\", cv_scores)\n",
        "\n",
        "# Print the mean and standard deviation of the scores\n",
        "print(\"Mean CV Accuracy:\", np.mean(cv_scores))\n",
        "print(\"Standard Deviation of CV Accuracy:\", np.std(cv_scores))"
      ],
      "metadata": {
        "colab": {
          "base_uri": "https://localhost:8080/"
        },
        "id": "Nwt62fjefgJ7",
        "outputId": "b5cad8e5-2068-489d-84f8-f8f74e7950ac"
      },
      "execution_count": 23,
      "outputs": [
        {
          "output_type": "stream",
          "name": "stdout",
          "text": [
            "Cross-Validation Scores: [0.95614035 0.92105263 0.97368421 0.95614035 0.96460177]\n",
            "Mean CV Accuracy: 0.9543238627542309\n",
            "Standard Deviation of CV Accuracy: 0.017855153449413373\n"
          ]
        }
      ]
    },
    {
      "cell_type": "code",
      "source": [
        "# 43.Train a Random Forest Classifier and plot the Precision-Recall curve.\n",
        "from sklearn.ensemble import RandomForestClassifier\n",
        "from sklearn.datasets import load_breast_cancer\n",
        "from sklearn.model_selection import train_test_split\n",
        "from sklearn.metrics import precision_recall_curve, average_precision_score\n",
        "import matplotlib.pyplot as plt\n",
        "\n",
        "# Load the Breast Cancer dataset\n",
        "data = load_breast_cancer()\n",
        "X = data.data\n",
        "y = data.target\n",
        "\n",
        "# Split the data into training and testing sets\n",
        "X_train, X_test, y_train, y_test = train_test_split(X, y, test_size=0.3, random_state=42)\n",
        "\n",
        "# Create and train the Random Forest Classifier\n",
        "rf_classifier = RandomForestClassifier(n_estimators=100, random_state=42)\n",
        "rf_classifier.fit(X_train, y_train)\n",
        "\n",
        "# Make probability predictions on the test set\n",
        "y_pred_proba = rf_classifier.predict_proba(X_test)[:, 1]  # Probabilities for the positive class\n",
        "\n",
        "# Calculate the Precision-Recall curve\n",
        "precision, recall, _ = precision_recall_curve(y_test, y_pred_proba)\n",
        "\n",
        "# Calculate the average precision score\n",
        "average_precision = average_precision_score(y_test, y_pred_proba)\n",
        "\n",
        "# Plot the Precision-Recall curve\n",
        "plt.figure(figsize=(8, 6))\n",
        "plt.plot(recall, precision, color='b', label=f'Average Precision = {average_precision:.2f}')\n",
        "plt.xlabel('Recall')\n",
        "plt.ylabel('Precision')\n",
        "plt.title('Precision-Recall Curve for Random Forest Classifier')\n",
        "plt.xlim([0.0, 1.05])\n",
        "plt.ylim([0.0, 1.05])\n",
        "plt.legend(loc='upper right')\n",
        "plt.grid(True)\n",
        "plt.show()"
      ],
      "metadata": {
        "colab": {
          "base_uri": "https://localhost:8080/",
          "height": 564
        },
        "id": "qg_TyM5YfvVP",
        "outputId": "11410157-f30c-4297-b207-b489933aed3e"
      },
      "execution_count": 24,
      "outputs": [
        {
          "output_type": "display_data",
          "data": {
            "text/plain": [
              "<Figure size 800x600 with 1 Axes>"
            ],
            "image/png": "[encoded data removed]"
          },
          "metadata": {}
        }
      ]
    },
    {
      "cell_type": "code",
      "source": [
        "# 44.  Train a Stacking Classifier with Random Forest and Logistic Regression and compare accuracy.\n",
        "from sklearn.ensemble import StackingClassifier, RandomForestClassifier\n",
        "from sklearn.linear_model import LogisticRegression\n",
        "from sklearn.model_selection import train_test_split\n",
        "from sklearn.datasets import load_breast_cancer\n",
        "from sklearn.metrics import accuracy_score\n",
        "\n",
        "# Load the Breast Cancer dataset\n",
        "data = load_breast_cancer()\n",
        "X = data.data\n",
        "y = data.target\n",
        "\n",
        "# Split the data into training and testing sets\n",
        "X_train, X_test, y_train, y_test = train_test_split(X, y, test_size=0.3, random_state=42)\n",
        "\n",
        "# Define the base classifiers\n",
        "base_classifiers = [\n",
        "    ('rf', RandomForestClassifier(n_estimators=100, random_state=42)),\n",
        "    ('lr', LogisticRegression(solver='liblinear', random_state=42))\n",
        "]\n",
        "\n",
        "# Define the meta-classifier\n",
        "meta_classifier = LogisticRegression(solver='liblinear', random_state=42)\n",
        "\n",
        "# Create the Stacking Classifier\n",
        "stacking_classifier = StackingClassifier(\n",
        "    estimators=base_classifiers,\n",
        "    final_estimator=meta_classifier,\n",
        "    cv=5  # Cross-validation folds\n",
        ")\n",
        "\n",
        "# Train the Stacking Classifier\n",
        "stacking_classifier.fit(X_train, y_train)\n",
        "\n",
        "# Make predictions with the Stacking Classifier\n",
        "stacking_predictions = stacking_classifier.predict(X_test)\n",
        "stacking_accuracy = accuracy_score(y_test, stacking_predictions)\n",
        "\n",
        "# Train a single Random Forest Classifier for comparison\n",
        "rf_classifier = RandomForestClassifier(n_estimators=100, random_state=42)\n",
        "rf_classifier.fit(X_train, y_train)\n",
        "rf_predictions = rf_classifier.predict(X_test)\n",
        "rf_accuracy = accuracy_score(y_test, rf_predictions)\n",
        "\n",
        "# Compare Accuracy\n",
        "print(\"Stacking Classifier Accuracy:\", stacking_accuracy)\n",
        "print(\"Random Forest Classifier Accuracy:\", rf_accuracy)\n",
        "\n",
        "if stacking_accuracy > rf_accuracy:\n",
        "    print(\"\\nStacking Classifier performed better than Random Forest.\")\n",
        "elif rf_accuracy > stacking_accuracy:\n",
        "    print(\"\\nRandom Forest performed better than Stacking Classifier.\")\n",
        "else:\n",
        "    print(\"\\nBoth classifiers achieved the same accuracy.\")"
      ],
      "metadata": {
        "colab": {
          "base_uri": "https://localhost:8080/"
        },
        "id": "x6nrC-TGf-yh",
        "outputId": "214ca974-59ee-46a0-f363-4a0b1f083941"
      },
      "execution_count": 25,
      "outputs": [
        {
          "output_type": "stream",
          "name": "stdout",
          "text": [
            "Stacking Classifier Accuracy: 0.9766081871345029\n",
            "Random Forest Classifier Accuracy: 0.9707602339181286\n",
            "\n",
            "Stacking Classifier performed better than Random Forest.\n"
          ]
        }
      ]
    },
    {
      "cell_type": "code",
      "source": [
        "# 45.  Train a Bagging Regressor with different levels of bootstrap samples and compare performance.\n",
        "from sklearn.ensemble import BaggingRegressor\n",
        "from sklearn.tree import DecisionTreeRegressor\n",
        "from sklearn.model_selection import train_test_split\n",
        "from sklearn.datasets import load_diabetes  # Or another regression dataset\n",
        "from sklearn.metrics import mean_squared_error, r2_score\n",
        "import matplotlib.pyplot as plt\n",
        "\n",
        "# Load the Diabetes dataset\n",
        "data = load_diabetes()\n",
        "X = data.data\n",
        "y = data.target\n",
        "\n",
        "# Split the data into training and testing sets\n",
        "X_train, X_test, y_train, y_test = train_test_split(X, y, test_size=0.3, random_state=42)\n",
        "\n",
        "# Define different fractions of samples to use for bootstrapping\n",
        "sample_fractions = [0.5, 0.7, 0.9, 1.0]  # 1.0 means use all samples\n",
        "mse_scores = []\n",
        "r2_scores = []\n",
        "\n",
        "# Train and evaluate Bagging Regressors with different sample fractions\n",
        "for sample_fraction in sample_fractions:\n",
        "    bagging_regressor = BaggingRegressor(\n",
        "        estimator=DecisionTreeRegressor(random_state=42),\n",
        "        n_estimators=100,\n",
        "        max_samples=sample_fraction,  # This controls the fraction of samples used\n",
        "        random_state=42\n",
        "    )\n",
        "\n",
        "    bagging_regressor.fit(X_train, y_train)\n",
        "    y_pred = bagging_regressor.predict(X_test)\n",
        "    mse = mean_squared_error(y_test, y_pred)\n",
        "    r2 = r2_score(y_test, y_pred)\n",
        "\n",
        "    mse_scores.append(mse)\n",
        "    r2_scores.append(r2)\n",
        "\n",
        "# Print the results\n",
        "print(\"Bagging Regressor Performance for Different Bootstrap Sample Fractions:\")\n",
        "for i in range(len(sample_fractions)):\n",
        "    print(f\"Sample Fraction = {sample_fractions[i]}, MSE = {mse_scores[i]:.4f}, R2 = {r2_scores[i]:.4f}\")\n",
        "\n",
        "# Plot the results\n",
        "plt.figure(figsize=(10, 5))\n",
        "\n",
        "plt.subplot(1, 2, 1)\n",
        "plt.plot(sample_fractions, mse_scores, marker='o')\n",
        "plt.xlabel(\"Bootstrap Sample Fraction\")\n",
        "plt.ylabel(\"Mean Squared Error (MSE)\")\n",
        "plt.title(\"MSE vs. Bootstrap Sample Fraction\")\n",
        "plt.grid(True)\n",
        "\n",
        "plt.subplot(1, 2, 2)\n",
        "plt.plot(sample_fractions, r2_scores, marker='o')\n",
        "plt.xlabel(\"Bootstrap Sample Fraction\")\n",
        "plt.ylabel(\"R-squared (R2)\")\n",
        "plt.title(\"R2 vs. Bootstrap Sample Fraction\")\n",
        "plt.grid(True)\n",
        "\n",
        "plt.tight_layout()\n",
        "plt.show()"
      ],
      "metadata": {
        "colab": {
          "base_uri": "https://localhost:8080/",
          "height": 598
        },
        "id": "8SfYbo-bgNAW",
        "outputId": "8231cd14-dda1-4459-b478-b9b0d863dd64"
      },
      "execution_count": 26,
      "outputs": [
        {
          "output_type": "stream",
          "name": "stdout",
          "text": [
            "Bagging Regressor Performance for Different Bootstrap Sample Fractions:\n",
            "Sample Fraction = 0.5, MSE = 2748.3134, R2 = 0.4909\n",
            "Sample Fraction = 0.7, MSE = 2768.2709, R2 = 0.4872\n",
            "Sample Fraction = 0.9, MSE = 2875.0301, R2 = 0.4674\n",
            "Sample Fraction = 1.0, MSE = 2908.8062, R2 = 0.4612\n"
          ]
        },
        {
          "output_type": "display_data",
          "data": {
            "text/plain": [
              "<Figure size 1000x500 with 2 Axes>"
            ],
            "image/png": "[encoded data removed]"
          },
          "metadata": {}
        }
      ]
    }
  ]
}